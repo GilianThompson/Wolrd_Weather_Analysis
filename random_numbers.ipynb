{
 "cells": [
  {
   "cell_type": "code",
   "execution_count": 1,
   "id": "e28d4b9c",
   "metadata": {},
   "outputs": [],
   "source": [
    "#import random module \n",
    "import random"
   ]
  },
  {
   "cell_type": "code",
   "execution_count": 2,
   "id": "30ebdab2",
   "metadata": {},
   "outputs": [
    {
     "data": {
      "text/plain": [
       "0.655206607686129"
      ]
     },
     "execution_count": 2,
     "metadata": {},
     "output_type": "execute_result"
    }
   ],
   "source": [
    "random.random()"
   ]
  },
  {
   "cell_type": "code",
   "execution_count": 3,
   "id": "e72a01dd",
   "metadata": {},
   "outputs": [
    {
     "data": {
      "text/plain": [
       "14"
      ]
     },
     "execution_count": 3,
     "metadata": {},
     "output_type": "execute_result"
    }
   ],
   "source": [
    "random.randint(-100,100)"
   ]
  },
  {
   "cell_type": "code",
   "execution_count": 4,
   "id": "2065d6c6",
   "metadata": {},
   "outputs": [
    {
     "data": {
      "text/plain": [
       "30"
      ]
     },
     "execution_count": 4,
     "metadata": {},
     "output_type": "execute_result"
    }
   ],
   "source": [
    "random.randrange(-100,100, 5)"
   ]
  },
  {
   "cell_type": "code",
   "execution_count": 5,
   "id": "21170ca4",
   "metadata": {},
   "outputs": [
    {
     "data": {
      "text/plain": [
       "-60.027355074323864"
      ]
     },
     "execution_count": 5,
     "metadata": {},
     "output_type": "execute_result"
    }
   ],
   "source": [
    "random.uniform(-100,100)"
   ]
  },
  {
   "cell_type": "code",
   "execution_count": 6,
   "id": "b5b9b242",
   "metadata": {},
   "outputs": [
    {
     "data": {
      "text/plain": [
       "36.69083894854422"
      ]
     },
     "execution_count": 6,
     "metadata": {},
     "output_type": "execute_result"
    }
   ],
   "source": [
    "random_number = random.randint(-90,89) + random.random()\n",
    "random_number"
   ]
  },
  {
   "cell_type": "code",
   "execution_count": 7,
   "id": "0924ed35",
   "metadata": {},
   "outputs": [
    {
     "data": {
      "text/plain": [
       "[86.91675995316675,\n",
       " -62.09666834574353,\n",
       " -57.15215205194282,\n",
       " 4.47396054015574,\n",
       " -16.560041910125758,\n",
       " -66.55505763323154,\n",
       " -83.53720698219814,\n",
       " 42.01723065173513,\n",
       " 32.923890690623914,\n",
       " -42.0987395207774]"
      ]
     },
     "execution_count": 7,
     "metadata": {},
     "output_type": "execute_result"
    }
   ],
   "source": [
    "count = 1 \n",
    "latitudes = []\n",
    "while count <11:\n",
    "    random_num = random.randint(-90,89) + random.random()\n",
    "    latitudes.append(random_num)\n",
    "    count +=1 \n",
    "latitudes"
   ]
  },
  {
   "cell_type": "code",
   "execution_count": 8,
   "id": "4a2914f1",
   "metadata": {},
   "outputs": [],
   "source": [
    "#import the numpy module \n",
    "import numpy as np"
   ]
  },
  {
   "cell_type": "code",
   "execution_count": 9,
   "id": "552c8599",
   "metadata": {},
   "outputs": [
    {
     "data": {
      "text/plain": [
       "array([-82.17335718,  75.1720729 , -79.53592538, -33.73390437,\n",
       "       -65.26517197, -80.95310581, -23.28087137,  75.92904655,\n",
       "       -76.73756088,  86.85299719, -10.08778453,  88.06308877,\n",
       "       -16.68845266, -12.09283949,   3.68387576, -86.55584669,\n",
       "       -78.53566697,   2.56248243,  -9.72620328,  37.72225559,\n",
       "       -65.09670689, -65.59498103,  59.57392493, -56.92424721,\n",
       "        65.26224607,  35.29730297,  55.55840376, -77.58103333,\n",
       "         9.02405714, -20.0776894 ,  -4.70006003, -35.7884267 ,\n",
       "       -40.04330789,  20.61104226, -32.46949303,  40.39638315,\n",
       "        41.70685272,   5.7737055 ,  89.56165867,  -3.31535108,\n",
       "       -81.67126989,  29.39707583,  31.78843926,   8.93798849,\n",
       "        17.13362559,  17.28084078,  64.24857042, -41.31868788,\n",
       "        52.5137539 ,  14.74373607])"
      ]
     },
     "execution_count": 9,
     "metadata": {},
     "output_type": "execute_result"
    }
   ],
   "source": [
    "np.random.uniform(-90.000,90.000, 50)"
   ]
  },
  {
   "cell_type": "code",
   "execution_count": 10,
   "id": "13cb5771",
   "metadata": {},
   "outputs": [],
   "source": [
    "#import timeit\n",
    "import timeit"
   ]
  },
  {
   "cell_type": "code",
   "execution_count": 11,
   "id": "0cbad9db",
   "metadata": {},
   "outputs": [
    {
     "name": "stdout",
     "output_type": "stream",
     "text": [
      "18.4 µs ± 572 ns per loop (mean ± std. dev. of 7 runs, 100000 loops each)\n"
     ]
    }
   ],
   "source": [
    "%timeit np.random.uniform(-90.000, 90.000, size = 1500)"
   ]
  },
  {
   "cell_type": "code",
   "execution_count": 12,
   "id": "4eb5a4b9",
   "metadata": {},
   "outputs": [
    {
     "name": "stdout",
     "output_type": "stream",
     "text": [
      "1.68 ms ± 11.3 µs per loop (mean ± std. dev. of 7 runs, 1000 loops each)\n"
     ]
    }
   ],
   "source": [
    "def latitudes(size):\n",
    "    latitudes = []\n",
    "    x = 0\n",
    "    while x < (size):\n",
    "        random_lat = random.randint(-90,90) + random.random()\n",
    "        latitudes.append(random_lat)\n",
    "        x +=1\n",
    "    return latitudes \n",
    "#call the function with 1500\n",
    "%timeit latitudes(1500)"
   ]
  },
  {
   "cell_type": "code",
   "execution_count": null,
   "id": "374cc06a",
   "metadata": {},
   "outputs": [],
   "source": []
  }
 ],
 "metadata": {
  "kernelspec": {
   "display_name": "PythonData",
   "language": "python",
   "name": "pythondata"
  },
  "language_info": {
   "codemirror_mode": {
    "name": "ipython",
    "version": 3
   },
   "file_extension": ".py",
   "mimetype": "text/x-python",
   "name": "python",
   "nbconvert_exporter": "python",
   "pygments_lexer": "ipython3",
   "version": "3.8.8"
  }
 },
 "nbformat": 4,
 "nbformat_minor": 5
}
